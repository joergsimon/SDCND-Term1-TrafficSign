{
 "cells": [
  {
   "cell_type": "markdown",
   "metadata": {
    "nbpresent": {
     "id": "c1686a2b-7475-43ba-95cf-b3c535907351"
    }
   },
   "source": [
    "# Self-Driving Car Engineer Nanodegree\n",
    "\n",
    "## Deep Learning\n",
    "\n",
    "## Project: Build a Traffic Sign Recognition Classifier\n",
    "\n",
    "In this notebook, a template is provided for you to implement your functionality in stages, which is required to successfully complete this project. If additional code is required that cannot be included in the notebook, be sure that the Python code is successfully imported and included in your submission if necessary. \n",
    "\n",
    "> **Note**: Once you have completed all of the code implementations, you need to finalize your work by exporting the iPython Notebook as an HTML document. Before exporting the notebook to html, all of the code cells need to have been run so that reviewers can see the final implementation and output. You can then export the notebook by using the menu above and navigating to  \\n\",\n",
    "    \"**File -> Download as -> HTML (.html)**. Include the finished document along with this notebook as your submission. \n",
    "\n",
    "In addition to implementing code, there is a writeup to complete. The writeup should be completed in a separate file, which can be either a markdown file or a pdf document. There is a [write up template](https://github.com/udacity/CarND-Traffic-Sign-Classifier-Project/blob/master/writeup_template.md) that can be used to guide the writing process. Completing the code template and writeup template will cover all of the [rubric points](https://review.udacity.com/#!/rubrics/481/view) for this project.\n",
    "\n",
    "The [rubric](https://review.udacity.com/#!/rubrics/481/view) contains \"Stand Out Suggestions\" for enhancing the project beyond the minimum requirements. The stand out suggestions are optional. If you decide to pursue the \"stand out suggestions\", you can include the code in this Ipython notebook and also discuss the results in the writeup file.\n",
    "\n",
    "\n",
    ">**Note:** Code and Markdown cells can be executed using the **Shift + Enter** keyboard shortcut. In addition, Markdown cells can be edited by typically double-clicking the cell to enter edit mode."
   ]
  },
  {
   "cell_type": "markdown",
   "metadata": {
    "nbpresent": {
     "id": "728b414c-6a54-4fa3-bcc7-25f60fed1572"
    }
   },
   "source": [
    "---\n",
    "## Step 0: Load The Data"
   ]
  },
  {
   "cell_type": "code",
   "execution_count": 8,
   "metadata": {
    "collapsed": false,
    "nbpresent": {
     "id": "51e88e48-6780-43c7-96ad-9f07e98184df"
    }
   },
   "outputs": [],
   "source": [
    "# Load pickled data\n",
    "import pickle\n",
    "\n",
    "path = \"/home/carnd/SDCND-Term1-TrafficSign/traffic-signs-data/\"\n",
    "#path=\"/Users/joergsimon/Dropbox/uni/SDCND/SDCND-Term1-TrafficSign/traffic-signs-data/\"\n",
    "training_file = path + \"train.p\"\n",
    "validation_file= path + \"valid.p\"\n",
    "testing_file = path + \"test.p\"\n",
    "\n",
    "with open(training_file, mode='rb') as f:\n",
    "    train = pickle.load(f)\n",
    "with open(validation_file, mode='rb') as f:\n",
    "    valid = pickle.load(f)\n",
    "with open(testing_file, mode='rb') as f:\n",
    "    test = pickle.load(f)\n",
    "    \n",
    "X_train, y_train = train['features'], train['labels']\n",
    "X_valid, y_valid = valid['features'], valid['labels']\n",
    "X_test, y_test = test['features'], test['labels']"
   ]
  },
  {
   "cell_type": "markdown",
   "metadata": {
    "nbpresent": {
     "id": "84ac4e8b-1247-4e57-83b4-9108ebdf5cba"
    }
   },
   "source": [
    "---\n",
    "\n",
    "## Step 1: Dataset Summary & Exploration\n",
    "\n",
    "The pickled data is a dictionary with 4 key/value pairs:\n",
    "\n",
    "- `'features'` is a 4D array containing raw pixel data of the traffic sign images, (num examples, width, height, channels).\n",
    "- `'labels'` is a 1D array containing the label/class id of the traffic sign. The file `signnames.csv` contains id -> name mappings for each id.\n",
    "- `'sizes'` is a list containing tuples, (width, height) representing the original width and height the image.\n",
    "- `'coords'` is a list containing tuples, (x1, y1, x2, y2) representing coordinates of a bounding box around the sign in the image. **THESE COORDINATES ASSUME THE ORIGINAL IMAGE. THE PICKLED DATA CONTAINS RESIZED VERSIONS (32 by 32) OF THESE IMAGES**\n",
    "\n",
    "Complete the basic data summary below. Use python, numpy and/or pandas methods to calculate the data summary rather than hard coding the results. For example, the [pandas shape method](http://pandas.pydata.org/pandas-docs/stable/generated/pandas.DataFrame.shape.html) might be useful for calculating some of the summary results. "
   ]
  },
  {
   "cell_type": "markdown",
   "metadata": {
    "nbpresent": {
     "id": "68ea24eb-e1d5-4348-a302-24be0a95a725"
    }
   },
   "source": [
    "### Provide a Basic Summary of the Data Set Using Python, Numpy and/or Pandas"
   ]
  },
  {
   "cell_type": "code",
   "execution_count": 2,
   "metadata": {
    "collapsed": false,
    "nbpresent": {
     "id": "c459b7c0-cfe0-4ebc-af5d-0605b8a12c07"
    }
   },
   "outputs": [
    {
     "name": "stdout",
     "output_type": "stream",
     "text": [
      "Number of training examples = 34799\n",
      "Number of validation examples = 4410\n",
      "Number of testing examples = 12630\n",
      "Image data shape = (32, 32)\n",
      "Number of classes = 43\n"
     ]
    }
   ],
   "source": [
    "import numpy as np\n",
    "n_train = y_train.size\n",
    "n_valid = y_valid.size\n",
    "n_test = y_test.size\n",
    "image_shape = X_train[0].shape[0:2]\n",
    "all_y = np.concatenate((y_train,y_valid,y_test))\n",
    "all_lbls = np.unique(all_y)\n",
    "n_classes = all_lbls.size\n",
    "\n",
    "print(\"Number of training examples =\", n_train)\n",
    "print(\"Number of validation examples =\", n_valid)\n",
    "print(\"Number of testing examples =\", n_test)\n",
    "print(\"Image data shape =\", image_shape)\n",
    "print(\"Number of classes =\", n_classes)"
   ]
  },
  {
   "cell_type": "markdown",
   "metadata": {
    "nbpresent": {
     "id": "95e0751f-7a46-4dee-8f01-9b7b4fbd5789"
    }
   },
   "source": [
    "### Include an exploratory visualization of the dataset"
   ]
  },
  {
   "cell_type": "markdown",
   "metadata": {
    "nbpresent": {
     "id": "2d00d6a1-c7a1-47cc-9429-0b87a6bc974b"
    }
   },
   "source": [
    "Visualize the German Traffic Signs Dataset using the pickled file(s). This is open ended, suggestions include: plotting traffic sign images, plotting the count of each sign, etc.\n",
    "\n",
    "The [Matplotlib](http://matplotlib.org/) [examples](http://matplotlib.org/examples/index.html) and [gallery](http://matplotlib.org/gallery.html) pages are a great resource for doing visualizations in Python.\n",
    "\n",
    "**NOTE:** It's recommended you start with something simple first. If you wish to do more, come back to it after you've completed the rest of the sections."
   ]
  },
  {
   "cell_type": "code",
   "execution_count": 9,
   "metadata": {
    "collapsed": false,
    "nbpresent": {
     "id": "2dbc76c2-0dca-4716-bdb6-1946cc122476"
    }
   },
   "outputs": [
    {
     "name": "stdout",
     "output_type": "stream",
     "text": [
      "23\n"
     ]
    },
    {
     "data": {
      "image/png": "[encoded data removed]",
      "text/plain": [
       "<matplotlib.figure.Figure at 0x7f3b4a032c18>"
      ]
     },
     "metadata": {},
     "output_type": "display_data"
    }
   ],
   "source": [
    "import random\n",
    "import matplotlib.pyplot as plt\n",
    "%matplotlib inline\n",
    "\n",
    "index = random.randint(0, len(X_train))\n",
    "image = X_train[index].squeeze()\n",
    "\n",
    "plt.figure(figsize=(1,1))\n",
    "plt.imshow(image)\n",
    "print(y_train[index])"
   ]
  },
  {
   "cell_type": "code",
   "execution_count": 4,
   "metadata": {
    "collapsed": false
   },
   "outputs": [],
   "source": [
    "def get_channel_histogram(channel_num):\n",
    "    channel_histogram = np.zeros(256)\n",
    "    for i in range(len(X_train)):\n",
    "        img_data = X_train[i]\n",
    "        for x in range(32):\n",
    "            for y in range(32):\n",
    "                val = img_data[x][y][channel_num]\n",
    "                channel_histogram[val] = channel_histogram[val] + 1\n",
    "    return channel_histogram\n",
    "\n",
    "c1_hist = get_channel_histogram(0)\n",
    "c2_hist = get_channel_histogram(1)\n",
    "c3_hist = get_channel_histogram(2)"
   ]
  },
  {
   "cell_type": "code",
   "execution_count": 5,
   "metadata": {
    "collapsed": false
   },
   "outputs": [
    {
     "data": {
      "image/png": "[encoded data removed]",
      "text/plain": [
       "<matplotlib.figure.Figure at 0x7fb7fa4666d8>"
      ]
     },
     "metadata": {},
     "output_type": "display_data"
    }
   ],
   "source": [
    "fig, ax = plt.subplots(1,1)\n",
    "ax.plot(c1_hist, \"r\")\n",
    "ax.plot(c2_hist, \"g\")\n",
    "ax.plot(c3_hist, \"b\")\n",
    "plt.xlabel('value in channel (0..255)')\n",
    "plt.ylabel('number of occurance')\n",
    "plt.show()"
   ]
  },
  {
   "cell_type": "markdown",
   "metadata": {
    "nbpresent": {
     "id": "a7d9db63-5a0c-4724-875a-c5ea8e0f691a"
    }
   },
   "source": [
    "----\n",
    "\n",
    "## Step 2: Design and Test a Model Architecture\n",
    "\n",
    "Design and implement a deep learning model that learns to recognize traffic signs. Train and test your model on the [German Traffic Sign Dataset](http://benchmark.ini.rub.de/?section=gtsrb&subsection=dataset).\n",
    "\n",
    "The LeNet-5 implementation shown in the [classroom](https://classroom.udacity.com/nanodegrees/nd013/parts/fbf77062-5703-404e-b60c-95b78b2f3f9e/modules/6df7ae49-c61c-4bb2-a23e-6527e69209ec/lessons/601ae704-1035-4287-8b11-e2c2716217ad/concepts/d4aca031-508f-4e0b-b493-e7b706120f81) at the end of the CNN lesson is a solid starting point. You'll have to change the number of classes and possibly the preprocessing, but aside from that it's plug and play! \n",
    "\n",
    "With the LeNet-5 solution from the lecture, you should expect a validation set accuracy of about 0.89. To meet specifications, the validation set accuracy will need to be at least 0.93. It is possible to get an even higher accuracy, but 0.93 is the minimum for a successful project submission. \n",
    "\n",
    "There are various aspects to consider when thinking about this problem:\n",
    "\n",
    "- Neural network architecture (is the network over or underfitting?)\n",
    "- Play around preprocessing techniques (normalization, rgb to grayscale, etc)\n",
    "- Number of examples per label (some have more than others).\n",
    "- Generate fake data.\n",
    "\n",
    "Here is an example of a [published baseline model on this problem](http://yann.lecun.com/exdb/publis/pdf/sermanet-ijcnn-11.pdf). It's not required to be familiar with the approach used in the paper but, it's good practice to try to read papers like these."
   ]
  },
  {
   "cell_type": "markdown",
   "metadata": {
    "nbpresent": {
     "id": "ffdb444a-3a7c-471f-b966-952a65d38385"
    }
   },
   "source": [
    "### Pre-process the Data Set (normalization, grayscale, etc.)"
   ]
  },
  {
   "cell_type": "markdown",
   "metadata": {
    "nbpresent": {
     "id": "e7c42449-9298-4452-a2ad-3f52e3775dfb"
    }
   },
   "source": [
    "Use the code cell (or multiple code cells, if necessary) to implement the first step of your project."
   ]
  },
  {
   "cell_type": "code",
   "execution_count": 10,
   "metadata": {
    "collapsed": false,
    "nbpresent": {
     "id": "3d570787-3725-4810-9889-0dc4d3fc9106"
    }
   },
   "outputs": [],
   "source": [
    "from sklearn.utils import shuffle\n",
    "import tensorflow as tf\n",
    "EPOCHS = 15\n",
    "BATCH_SIZE = 128\n",
    "X_train, y_train = shuffle(X_train, y_train)"
   ]
  },
  {
   "cell_type": "code",
   "execution_count": 21,
   "metadata": {
    "collapsed": true
   },
   "outputs": [],
   "source": [
    "# check if we are running on gpu's:\n",
    "sess = tf.Session(config=tf.ConfigProto(log_device_placement=True))"
   ]
  },
  {
   "cell_type": "code",
   "execution_count": 11,
   "metadata": {
    "collapsed": false
   },
   "outputs": [],
   "source": [
    "import cv2\n",
    "def convertToGrayscale(data):\n",
    "    grey_data = np.ndarray((data.shape[0], 32, 32, 1), dtype=np.uint8)\n",
    "    for i in range(data.shape[0]):\n",
    "        img = data[i].squeeze()\n",
    "        gray_image = cv2.cvtColor(img, cv2.COLOR_BGR2GRAY)\n",
    "        gray_image = np.expand_dims(gray_image, axis=2)\n",
    "        grey_data[i] = gray_image\n",
    "    return grey_data\n",
    "\n",
    "g = convertToGrayscale(X_train)\n",
    "X_train = g\n",
    "\n",
    "g = convertToGrayscale(X_valid)\n",
    "X_valid = g\n",
    "\n",
    "g = convertToGrayscale(X_test)\n",
    "X_test = g"
   ]
  },
  {
   "cell_type": "code",
   "execution_count": 12,
   "metadata": {
    "collapsed": false
   },
   "outputs": [
    {
     "name": "stdout",
     "output_type": "stream",
     "text": [
      "35\n"
     ]
    },
    {
     "data": {
      "image/png": "[encoded data removed]",
      "text/plain": [
       "<matplotlib.figure.Figure at 0x7f3ba94da2e8>"
      ]
     },
     "metadata": {},
     "output_type": "display_data"
    }
   ],
   "source": [
    "import random\n",
    "import matplotlib.pyplot as plt\n",
    "%matplotlib inline\n",
    "\n",
    "image = X_train[index]\n",
    "image = image.reshape(image.shape[:-1])\n",
    "\n",
    "plt.figure(figsize=(1,1))\n",
    "plt.imshow(image, cmap='gray')\n",
    "print(y_train[index])"
   ]
  },
  {
   "cell_type": "code",
   "execution_count": 9,
   "metadata": {
    "collapsed": false
   },
   "outputs": [
    {
     "data": {
      "image/png": "[encoded data removed]",
      "text/plain": [
       "<matplotlib.figure.Figure at 0x7fb83703a048>"
      ]
     },
     "metadata": {},
     "output_type": "display_data"
    }
   ],
   "source": [
    "c1_hist_grey = get_channel_histogram(0)\n",
    "fig, ax = plt.subplots(1,1)\n",
    "ax.plot(c1_hist_grey)\n",
    "plt.xlabel('value in greyscale (0..255)')\n",
    "plt.ylabel('number of occurance')\n",
    "plt.show()"
   ]
  },
  {
   "cell_type": "markdown",
   "metadata": {
    "nbpresent": {
     "id": "9238ecfb-9e68-4e4a-90d7-4d7c2923fe3f"
    }
   },
   "source": [
    "### Model Architecture"
   ]
  },
  {
   "cell_type": "code",
   "execution_count": 13,
   "metadata": {
    "collapsed": false,
    "nbpresent": {
     "id": "5ba6288e-f5fa-4449-99d7-cc9c0caade50"
    }
   },
   "outputs": [],
   "source": [
    "from tensorflow.contrib.layers import flatten\n",
    "#from tensorflow.python import control_flow_ops\n",
    "\n",
    "batch_size = BATCH_SIZE\n",
    "\n",
    "def conv2d(input, weight_dim, num_biases, strides_dim=[1,1,1,1], padding = 'SAME'):\n",
    "    # Filter (weights and bias)\n",
    "    # The shape of the filter weight is (height, width, input_depth, output_depth)\n",
    "    # The shape of the filter bias is (output_depth,)\n",
    "    # stride for each dimension (batch_size, height, width, depth)\n",
    "    mu = 0\n",
    "    sigma = 0.1\n",
    "    F_W = tf.Variable(tf.truncated_normal(weight_dim, mu, sigma))\n",
    "    F_b = tf.Variable(tf.truncated_normal(num_biases, mu, sigma))\n",
    "    strides = strides_dim\n",
    "    # https://www.tensorflow.org/versions/r0.11/api_docs/python/nn.html#conv2d\n",
    "    # `tf.nn.conv2d` does not include the bias computation so we have to add it ourselves after.\n",
    "    return tf.nn.bias_add(tf.nn.conv2d(input, F_W, strides, padding),F_b)\n",
    "\n",
    "def activation(input):\n",
    "    return tf.nn.relu(input)\n",
    "\n",
    "def maxpool(input, ksize, strides, padding = 'VALID'):\n",
    "    # ksize (filter size) for each dimension (batch_size, height, width, depth)\n",
    "    # stride for each dimension (batch_size, height, width, depth)\n",
    "    \n",
    "    # https://www.tensorflow.org/versions/r0.11/api_docs/python/nn.html#max_pool\n",
    "    return tf.nn.max_pool(input, ksize, strides, padding)\n",
    "\n",
    "def connectedL(input, in_dim, out_dim):\n",
    "    mu = 0\n",
    "    sigma = 0.1\n",
    "    weights = tf.Variable(tf.truncated_normal([in_dim, out_dim], mu, sigma))\n",
    "    biases = tf.Variable(tf.truncated_normal([out_dim], mu, sigma))\n",
    "    return tf.add(tf.matmul(input, weights),biases)\n",
    "\n",
    "# taken from http://stackoverflow.com/questions/33949786/how-could-i-use-batch-normalization-in-tensorflow\n",
    "def batch_norm(x, n_out, phase_train, scope='bn'):\n",
    "    \"\"\"\n",
    "    Batch normalization on convolutional maps.\n",
    "    Args:\n",
    "        x:           Tensor, 4D BHWD input maps\n",
    "        n_out:       integer, depth of input maps\n",
    "        phase_train: boolean tf.Varialbe, true indicates training phase\n",
    "        scope:       string, variable scope\n",
    "    Return:\n",
    "        normed:      batch-normalized maps\n",
    "    \"\"\"\n",
    "    with tf.variable_scope(scope):\n",
    "        beta = tf.Variable(tf.constant(0.0, shape=[n_out]),\n",
    "                                     name='beta', trainable=True)\n",
    "        gamma = tf.Variable(tf.constant(1.0, shape=[n_out]),\n",
    "                                      name='gamma', trainable=True)\n",
    "        batch_mean, batch_var = tf.nn.moments(x, [0,1,2], name='moments')\n",
    "        ema = tf.train.ExponentialMovingAverage(decay=0.5)\n",
    "\n",
    "        def mean_var_with_update():\n",
    "            ema_apply_op = ema.apply([batch_mean, batch_var])\n",
    "            with tf.control_dependencies([ema_apply_op]):\n",
    "                return tf.identity(batch_mean), tf.identity(batch_var)\n",
    "\n",
    "        mean, var = tf.cond(phase_train,\n",
    "                            mean_var_with_update,\n",
    "                            lambda: (ema.average(batch_mean), ema.average(batch_var)))\n",
    "        normed = tf.nn.batch_normalization(x, mean, var, beta, gamma, 1e-3)\n",
    "    return normed\n",
    "\n",
    "def batch_norm_fullyc(x, n_out, phase_train, scope='bn'):\n",
    "    \"\"\"\n",
    "    Batch normalization on convolutional maps.\n",
    "    Args:\n",
    "        x:           Tensor, 4D BHWD input maps\n",
    "        n_out:       integer, depth of input maps\n",
    "        phase_train: boolean tf.Varialbe, true indicates training phase\n",
    "        scope:       string, variable scope\n",
    "    Return:\n",
    "        normed:      batch-normalized maps\n",
    "    \"\"\"\n",
    "    with tf.variable_scope(scope):\n",
    "        beta = tf.Variable(tf.constant(0.0, shape=[n_out]),\n",
    "                                     name='beta', trainable=True)\n",
    "        gamma = tf.Variable(tf.constant(1.0, shape=[n_out]),\n",
    "                                      name='gamma', trainable=True)\n",
    "        batch_mean, batch_var = tf.nn.moments(x, [0], name='moments')\n",
    "        ema = tf.train.ExponentialMovingAverage(decay=0.5)\n",
    "\n",
    "        def mean_var_with_update():\n",
    "            ema_apply_op = ema.apply([batch_mean, batch_var])\n",
    "            with tf.control_dependencies([ema_apply_op]):\n",
    "                return tf.identity(batch_mean), tf.identity(batch_var)\n",
    "\n",
    "        mean, var = tf.cond(phase_train,\n",
    "                            mean_var_with_update,\n",
    "                            lambda: (ema.average(batch_mean), ema.average(batch_var)))\n",
    "        normed = tf.nn.batch_normalization(x, mean, var, beta, gamma, 1e-3)\n",
    "    return normed\n",
    "\n",
    "def batch_normf(x, phase_train=False, reuse=None, scope=None):\n",
    "    return tf.contrib.layers.batch_norm(x, is_training=phase_train, reuse=reuse, scope=scope, updates_collections=None, decay=0.9, center=True, scale=True)\n",
    "\n",
    "def debug_dim(thingwithshape, is_debug_on):\n",
    "    if is_debug_on:\n",
    "        if hasattr(thingwithshape, 'shape'):\n",
    "            print(thingwithshape.shape)\n",
    "        elif hasattr(thingwithshape, 'get_shape'):\n",
    "            print (thingwithshape.get_shape())\n",
    "        else:\n",
    "            print(\"could not get shape:\")\n",
    "            print(thingwithshape)"
   ]
  },
  {
   "cell_type": "markdown",
   "metadata": {},
   "source": [
    "#### Le Net Model\n",
    "As a starting point for the project in the videos the Le Net Model was suggested. Only small variations of the the Le Net Model needed to be done like changing the input and output dimension size. This is the version with the minimal amount of variations."
   ]
  },
  {
   "cell_type": "code",
   "execution_count": 11,
   "metadata": {
    "collapsed": true,
    "nbpresent": {
     "id": "79220bca-49a4-496c-9c20-5c2de8525a88"
    }
   },
   "outputs": [],
   "source": [
    "def LeNet(x):    \n",
    "    # Arguments used for tf.truncated_normal, randomly defines variables for the weights and biases for each layer\n",
    "    mu = 0\n",
    "    sigma = 0.1\n",
    "    # print debug dimensions\n",
    "    debug_dimension = False\n",
    "    \n",
    "    # Layer 1: \n",
    "    # Convolutional. Input = 32x32x1. Output = 28x28x6.\n",
    "    c1 = conv2d(x, [5,5,1,6], [6])\n",
    "    debug_dim(c1, debug_dimension)\n",
    "    # Activation.\n",
    "    a1 = activation(c1)\n",
    "    debug_dim(a1, debug_dimension)\n",
    "    # Pooling. Input = 28x28x6. Output = 14x14x6.\n",
    "    p1 = maxpool(a1, [1, 2, 2, 1], [1, 2, 2, 1])\n",
    "    debug_dim(p1, debug_dimension)\n",
    "    # Layer 2: \n",
    "    # Convolutional. Output = 10x10x16.\n",
    "    c2 = conv2d(p1, [5,5,6,16], [16])\n",
    "    debug_dim(c2, debug_dimension)\n",
    "    # Activation.\n",
    "    a2 = activation(c2)\n",
    "    debug_dim(a2, debug_dimension)\n",
    "    # Pooling. Input = 10x10x16. Output = 5x5x16.\n",
    "    p2 = maxpool(a2, [1, 2, 2, 1], [1, 2, 2, 1])\n",
    "    debug_dim(p2, debug_dimension)\n",
    "    # Flatten. Input = 5x5x16. Output = 400.\n",
    "    f = flatten(p2)\n",
    "    debug_dim(f, debug_dimension)\n",
    "    # Layer 3: \n",
    "    # Fully Connected. Input = 400. Output = 120.\n",
    "    c3 = connectedL(f, 400, 120)\n",
    "    debug_dim(c3, debug_dimension)\n",
    "    # Activation.\n",
    "    a3 = activation(c3)\n",
    "    debug_dim(a3, debug_dimension)\n",
    "    # Layer 4: Fully Connected. Input = 120. Output = 84.\n",
    "    c4 = connectedL(a3, 120, 84)\n",
    "    debug_dim(c4, debug_dimension)\n",
    "    # Activation.\n",
    "    a4 = activation(c4)\n",
    "    debug_dim(a4, debug_dimension)\n",
    "    # Layer 5: Fully Connected. Input = 84. Output = 43.\n",
    "    c5 = connectedL(a4, 84, 43)\n",
    "    debug_dim(c5, debug_dimension)\n",
    "    logits = c5\n",
    "    return logits"
   ]
  },
  {
   "cell_type": "markdown",
   "metadata": {},
   "source": [
    "#### Sermanet & LeCun Model\n",
    "this is the model described in \"Traffic sign recognition with multi-scale Convolutional Networks\" 2011. However, several parameters are not exactly specified in the paper, for example:\n",
    "* the size of the convolution filter (only the depth is described). Here I first tried with the sizes we also have in LeNet.\n",
    "* the type of pooling layer: that paper states it uses a spatial feature pooling layer, but does not descripe it in detail, I use max pooling instead as it is recommendet in http://cs231n.github.io/convolutional-networks/\n",
    "* the non-linear transform layer: instead of a ReLU activation the paper states to use a own local normalization function. I might also have gotten that wrong. Again I use the std. ReLU as suggested in http://cs231n.github.io/convolutional-networks/\n",
    "\n",
    "Beside the other rational of the coices it seems also that these Filters are used from both in the more recent OverFeat: Integrated Recognition, Localization and Detection using Convolutional Networks Model"
   ]
  },
  {
   "cell_type": "code",
   "execution_count": 35,
   "metadata": {
    "collapsed": true
   },
   "outputs": [],
   "source": [
    "def sermant_lecun(x):\n",
    "    # Arguments used for tf.truncated_normal, randomly defines variables for the weights and biases for each layer\n",
    "    mu = 0\n",
    "    sigma = 0.1\n",
    "    # print debug dimensions\n",
    "    debug_dimension = True\n",
    "    \n",
    "    # Layer 1: \n",
    "    # Convolutional. Input = 32x32x1. Output = 28x28x108.\n",
    "    c1 = conv2d(x, [5,5,1,108], [108])\n",
    "    debug_dim(c1, debug_dimension)\n",
    "    # Activation.\n",
    "    a1 = activation(c1)\n",
    "    debug_dim(a1, debug_dimension)\n",
    "    # Pooling. Input = 28x28x108. Output = 14x14x108.\n",
    "    p1 = maxpool(a1, [1, 2, 2, 1], [1, 2, 2, 1])\n",
    "    debug_dim(p1, debug_dimension)\n",
    "    \n",
    "    # Layer 2: \n",
    "    # Convolutional. Input = 14x14x108. Output = 10x10x200.\n",
    "    c2 = conv2d(p1, [5,5,108,200], [200])\n",
    "    debug_dim(c2, debug_dimension)\n",
    "    # Activation.\n",
    "    a2 = activation(c2)\n",
    "    debug_dim(a2, debug_dimension)\n",
    "    # Pooling. Input = 10x10x200. Output = 5x5x200.\n",
    "    p2 = maxpool(a2, [1, 2, 2, 1], [1, 2, 2, 1])\n",
    "    debug_dim(p2, debug_dimension)\n",
    "    \n",
    "    # Layer 3:\n",
    "    # flatten Layer 1 & Layer 2 and concatenate, giving 21168 + 5000 = 26168\n",
    "    f1 = flatten(p1)\n",
    "    debug_dim(f1, debug_dimension)\n",
    "    f2 = flatten(p2)\n",
    "    debug_dim(f2, debug_dimension)\n",
    "    f = tf.concat(1,(f1,f2))\n",
    "    debug_dim(f, debug_dimension)\n",
    "    # Fully Connected. Input = 26168. Output = 200.\n",
    "    c3 = connectedL(f, 26168, 200)\n",
    "    debug_dim(c3, debug_dimension)\n",
    "    # Activation.\n",
    "    a3 = activation(c3)\n",
    "    debug_dim(a3, debug_dimension)\n",
    "    \n",
    "    # Layer 4:\n",
    "    # Fully Connected. Input = 200. Output = 100.\n",
    "    c4 = connectedL(a3, 200, 100)\n",
    "    debug_dim(c4, debug_dimension)\n",
    "    # Activation.\n",
    "    a4 = activation(c4)\n",
    "    debug_dim(a4, debug_dimension)\n",
    "    \n",
    "    # Layer 5: \n",
    "    # Fully Connected. Input = 100. Output = 43.\n",
    "    c5 = connectedL(a4, 100, 43)\n",
    "    debug_dim(c5, debug_dimension)\n",
    "    logits = c5\n",
    "    return logits\n",
    "    "
   ]
  },
  {
   "cell_type": "markdown",
   "metadata": {},
   "source": [
    "#### Sermanet LeCun Adoptions\n",
    "\n",
    "The Semanet and LeCun Network the way I understood it did not work well. I guess there are many things open for interpretation. One way to look at the network is to see it as a LeNet network with the output of the first and second layer coupled together. Additionally more conv layers with iterative deeper features seem to work good. On the other hand when connecting all the intermediate layers we want the global features to be dominant, but usually you have most of the local features. Because of that each layer has two poolings, one for the next layer, one for the connection of all of them to have siutable sizes. This architecture is a trial of that."
   ]
  },
  {
   "cell_type": "code",
   "execution_count": 64,
   "metadata": {
    "collapsed": true
   },
   "outputs": [],
   "source": [
    "def LeNet_l1andl2connected(x):    \n",
    "    # Arguments used for tf.truncated_normal, randomly defines variables for the weights and biases for each layer\n",
    "    mu = 0\n",
    "    sigma = 0.1\n",
    "    # print debug dimensions\n",
    "    debug_dimension = True\n",
    "    \n",
    "    # Layer 1: \n",
    "    # Convolutional. Input = 32x32x1. Output = 28x28x6.\n",
    "    c1 = conv2d(x, [5,5,1,6], [6])\n",
    "    debug_dim(c1, debug_dimension)\n",
    "    # Activation.\n",
    "    a1 = activation(c1)\n",
    "    debug_dim(a1, debug_dimension)\n",
    "    \n",
    "    # Pooling 1 will be used for the next step of convolutions\n",
    "    # but since we combine the output of pooling 1 and pooling 2\n",
    "    # we want to have a balanced number of features of lower and\n",
    "    # higher level invariants. with directly feeding the response\n",
    "    # of pooling 1 into the fully connected, we end up with giving lower\n",
    "    # level features more weight. So we use a second pooling filter\n",
    "    # to go over the data and use that\n",
    "    \n",
    "    # Pooling 1. Input = 28x28x6. Output = 14x14x6.\n",
    "    p1 = maxpool(a1, [1, 2, 2, 1], [1, 2, 2, 1])\n",
    "    debug_dim(p1, debug_dimension)\n",
    "    # Pooling 2. Input = 28x28x6. Output = 7x7x6.\n",
    "    p1_l4 = maxpool(a1, [1, 5, 5, 1], [1, 5, 5, 1])\n",
    "    debug_dim(p1_l4, debug_dimension)\n",
    "    \n",
    "    # Layer 2: \n",
    "    # Convolutional. Output = 10x10x16.\n",
    "    c2 = conv2d(p1, [5,5,6,16], [16])\n",
    "    debug_dim(c2, debug_dimension)\n",
    "    # Activation.\n",
    "    a2 = activation(c2)\n",
    "    debug_dim(a2, debug_dimension)\n",
    "    # Pooling. Input = 10x10x16. Output = 5x5x16.\n",
    "    p2 = maxpool(a2, [1, 2, 2, 1], [1, 2, 2, 1])\n",
    "    debug_dim(p2, debug_dimension)\n",
    "    # Pooling. Input = 10x10x16. Output = 5x5x16.\n",
    "    p2_l4 = maxpool(a2, [1, 3, 3, 1], [1, 3, 3, 1])\n",
    "    debug_dim(p2_l4, debug_dimension)\n",
    "    \n",
    "    # Layer 3: \n",
    "    # Convolutional. Output = 4x4x32.\n",
    "    c_3 = conv2d(p2, [2,2,16,32], [32])\n",
    "    debug_dim(c_3, debug_dimension)\n",
    "    # Activation.\n",
    "    a_3 = activation(c_3)\n",
    "    debug_dim(a_3, debug_dimension)\n",
    "    # Pooling. Input = 10x10x16. Output = 2x2x32.\n",
    "    p_3 = maxpool(a_3, [1, 2, 2, 1], [1, 2, 2, 1])\n",
    "    debug_dim(p_3, debug_dimension)\n",
    "    \n",
    "    # Layer 4: \n",
    "    # Flatten.\n",
    "    f1 = flatten(p1_l4)\n",
    "    debug_dim(f1, debug_dimension)\n",
    "    f2 = flatten(p2_l4)\n",
    "    debug_dim(f2, debug_dimension)\n",
    "    f3 = flatten(p_3)\n",
    "    debug_dim(f3, debug_dimension)\n",
    "    f = tf.concat(1,(f1,f2,f3))\n",
    "    # Fully Connected. Input = 422. Output = 120.\n",
    "    c3 = connectedL(f, 422, 120)\n",
    "    debug_dim(c3, debug_dimension)\n",
    "    # Activation.\n",
    "    a3 = activation(c3)\n",
    "    debug_dim(a3, debug_dimension)\n",
    "    # Layer 4: Fully Connected. Input = 120. Output = 84.\n",
    "    c4 = connectedL(a3, 120, 84)\n",
    "    debug_dim(c4, debug_dimension)\n",
    "    # Activation.\n",
    "    a4 = activation(c4)\n",
    "    debug_dim(a4, debug_dimension)\n",
    "    # Layer 5: Fully Connected. Input = 84. Output = 43.\n",
    "    c5 = connectedL(a4, 84, 43)\n",
    "    debug_dim(c5, debug_dimension)\n",
    "    logits = c5\n",
    "    return logits"
   ]
  },
  {
   "cell_type": "markdown",
   "metadata": {},
   "source": [
    "#### Inception Model\n",
    "The following model is inspired by the Model of GoogleLeNet. Basically it is a classical LeNet CNN at start, and then introduces inception layers descriped in the paper."
   ]
  },
  {
   "cell_type": "code",
   "execution_count": 17,
   "metadata": {
    "collapsed": true
   },
   "outputs": [],
   "source": [
    "class Reductions:\n",
    "    # table should be a list of duples of out dimensions in the form of:\n",
    "    # [(1x1), (1x1, 3x3), (1x1, 5x5), (maxpool, 1x1)]\n",
    "    def __init__(self, table):\n",
    "        self.conv1x1 = table[0]\n",
    "        self.conv3x3 = table[1]\n",
    "        self.conv5x5 = table[2]\n",
    "        self.maxpool = table[3]\n",
    "\n",
    "def step(x, in_depth, out_depth, f, phase_train):\n",
    "    c = conv2d(x, [f[0],f[1],in_depth,out_depth], [out_depth], padding = 'SAME')\n",
    "    c = batch_normf(c, phase_train)\n",
    "    c = activation(c)\n",
    "    return c\n",
    "\n",
    "def pool_s(x, pdim, sdim, padding):\n",
    "    m = maxpool(x, pdim, sdim, padding=padding)\n",
    "    m = batch_normf(m, phase_train)\n",
    "    m = activation(m)\n",
    "    return m\n",
    "\n",
    "def pool_reduce(x, pdim):\n",
    "    return pool_s(x, pdim, [1, 2, 2, 1], 'VALID')\n",
    "\n",
    "def pool(x, pdim, padding):\n",
    "    return pool_s(x, pdim, [1, 1, 1, 1], padding)\n",
    "\n",
    "def inception_layer(x, input_depth, r, phase_train):\n",
    "    debug_dimension = True\n",
    "    if debug_dimension:\n",
    "        print(\"-- inside inception --\")\n",
    "    #1x1:\n",
    "    t1x1 = step(x, input_depth, r.conv1x1, (1,1), phase_train)\n",
    "    debug_dim(t1x1, debug_dimension)\n",
    "    #3x3:\n",
    "    t3x3 = step(x, input_depth, r.conv3x3[0], (1,1), phase_train)\n",
    "    debug_dim(t3x3, debug_dimension)\n",
    "    t3x3 = step(t3x3, r.conv3x3[0], r.conv3x3[1], (3,3), phase_train)\n",
    "    debug_dim(t3x3, debug_dimension)\n",
    "    #5x5:\n",
    "    t5x5 = step(x, input_depth, r.conv5x5[0], (1,1), phase_train)\n",
    "    debug_dim(t5x5, debug_dimension)\n",
    "    t5x5 = step(t5x5, r.conv5x5[0], r.conv5x5[1], (5,5), phase_train)\n",
    "    debug_dim(t5x5, debug_dimension)\n",
    "    #max-pool\n",
    "    m = pool(x, [1, 3, 3, 1], 'SAME')\n",
    "    debug_dim(m, debug_dimension)\n",
    "    m = step(m, input_depth, r.maxpool, (1,1), phase_train)\n",
    "    \n",
    "    incept = tf.concat([t1x1, t3x3, t5x5, m], 3)\n",
    "    if debug_dimension:\n",
    "        print(\"-- end inception --\")\n",
    "    return incept   \n",
    "\n",
    "def inception(x, keep_prob, phase_train):\n",
    "    # Arguments used for tf.truncated_normal, randomly defines variables for the weights and biases for each layer\n",
    "    mu = 0\n",
    "    sigma = 0.1\n",
    "    debug_dimension = True\n",
    "    \n",
    "    l = conv2d(x, [5,5,1,6], [6], padding='VALID')\n",
    "    debug_dim(l, debug_dimension)\n",
    "    l = activation(l)\n",
    "    \n",
    "    r = Reductions([(4), (3, 4), (3,4),(4)]) # 16\n",
    "    l = inception_layer(l, 6, r, phase_train)\n",
    "    \n",
    "    r = Reductions([(8), (4, 8), (4,8),(8)]) # 32\n",
    "    l = inception_layer(l, 16, r, phase_train)\n",
    "    \n",
    "    l = pool_reduce(l, [1, 2, 2, 1]) # 14x14\n",
    "    debug_dim(l, debug_dimension)\n",
    "    \n",
    "    r = Reductions([(16), (8, 16), (8,16),(16)]) # 64\n",
    "    l = inception_layer(l, 32, r, phase_train)\n",
    "    \n",
    "    r = Reductions([(32), (16, 32), (16,32),(32)]) # 128\n",
    "    l = inception_layer(l, 64, r, phase_train)\n",
    "    \n",
    "    l = pool_reduce(l, [1, 2, 2, 1]) # 7x7\n",
    "    debug_dim(l, debug_dimension)\n",
    "    \n",
    "    r = Reductions([(64), (32, 64), (32,64),(64)]) # 256\n",
    "    l = inception_layer(l, 128, r, phase_train)\n",
    "    \n",
    "    #l = pool_reduce(l, [1, 2, 2, 1]) # 4x4\n",
    "    #debug_dim(l, debug_dimension)\n",
    "    \n",
    "    r = Reductions([(128), (64, 128), (64,128),(128)]) # 512\n",
    "    l = inception_layer(l, 256, r, phase_train)\n",
    "    \n",
    "    l = tf.nn.avg_pool(l, [1, 7, 7, 1], [1, 7, 7, 1], 'VALID')\n",
    "    debug_dim(l, debug_dimension)\n",
    "    l = flatten(l)\n",
    "    debug_dim(l, debug_dimension)\n",
    "    \n",
    "    c = connectedL(l, 512, 120)\n",
    "    # c = batch_norm_fullyc(c, 120, phase_train)\n",
    "    c = batch_normf(c, phase_train)\n",
    "    debug_dim(c, debug_dimension)\n",
    "    c = activation(c)\n",
    "    \n",
    "    c = connectedL(c, 120, 84)\n",
    "    # c = batch_norm_fullyc(c, 84, phase_train)\n",
    "    c = batch_normf(c, phase_train)\n",
    "    debug_dim(c, debug_dimension)\n",
    "    c = activation(c)\n",
    "    \n",
    "    # Apply Dropout <- reason for this position, it is usually here\n",
    "    c = tf.nn.dropout(c, keep_prob)\n",
    "    \n",
    "    c = connectedL(c, 84, 43)\n",
    "    debug_dim(c, debug_dimension)\n",
    "    \n",
    "    logits = c\n",
    "    return logits"
   ]
  },
  {
   "cell_type": "markdown",
   "metadata": {
    "nbpresent": {
     "id": "a5c9e12a-3749-4c18-99d1-2431c7dc2281"
    }
   },
   "source": [
    "### Train, Validate and Test the Model"
   ]
  },
  {
   "cell_type": "markdown",
   "metadata": {
    "nbpresent": {
     "id": "35564528-a812-458b-8a22-228f355d1b1f"
    }
   },
   "source": [
    "A validation set can be used to assess how well the model is performing. A low accuracy on the training and validation\n",
    "sets imply underfitting. A high accuracy on the training set but low accuracy on the validation set implies overfitting."
   ]
  },
  {
   "cell_type": "code",
   "execution_count": 1,
   "metadata": {
    "collapsed": true,
    "nbpresent": {
     "id": "795a76b4-7640-42b0-aa9e-4070a14ae4ad"
    }
   },
   "outputs": [],
   "source": [
    "### Train your model here.\n",
    "### Calculate and report the accuracy on the training and validation set.\n",
    "### Once a final model architecture is selected, \n",
    "### the accuracy on the test set should be calculated and reported as well.\n",
    "### Feel free to use as many code cells as needed."
   ]
  },
  {
   "cell_type": "code",
   "execution_count": 15,
   "metadata": {
    "collapsed": false,
    "nbpresent": {
     "id": "96463c24-f43a-4293-b8d5-3412562ad818"
    }
   },
   "outputs": [],
   "source": [
    "x = tf.placeholder(tf.float32, (None, 32, 32, 1))\n",
    "y = tf.placeholder(tf.int32, (None))\n",
    "keep_prob = tf.placeholder(tf.float32)\n",
    "phase_train = tf.placeholder(tf.bool, name='phase_train')\n",
    "one_hot_y = tf.one_hot(y, 43)"
   ]
  },
  {
   "cell_type": "code",
   "execution_count": 18,
   "metadata": {
    "collapsed": false,
    "nbpresent": {
     "id": "4d2c7f39-ac6a-4791-a1e2-e0c63dba48a1"
    }
   },
   "outputs": [
    {
     "name": "stdout",
     "output_type": "stream",
     "text": [
      "(?, 28, 28, 6)\n",
      "-- inside inception --\n",
      "(?, 28, 28, 4)\n",
      "(?, 28, 28, 3)\n",
      "(?, 28, 28, 4)\n",
      "(?, 28, 28, 3)\n",
      "(?, 28, 28, 4)\n",
      "(?, 28, 28, 6)\n",
      "-- end inception --\n",
      "-- inside inception --\n",
      "(?, 28, 28, 8)\n",
      "(?, 28, 28, 4)\n",
      "(?, 28, 28, 8)\n",
      "(?, 28, 28, 4)\n",
      "(?, 28, 28, 8)\n",
      "(?, 28, 28, 16)\n",
      "-- end inception --\n",
      "(?, 14, 14, 32)\n",
      "-- inside inception --\n",
      "(?, 14, 14, 16)\n",
      "(?, 14, 14, 8)\n",
      "(?, 14, 14, 16)\n",
      "(?, 14, 14, 8)\n",
      "(?, 14, 14, 16)\n",
      "(?, 14, 14, 32)\n",
      "-- end inception --\n",
      "-- inside inception --\n",
      "(?, 14, 14, 32)\n",
      "(?, 14, 14, 16)\n",
      "(?, 14, 14, 32)\n",
      "(?, 14, 14, 16)\n",
      "(?, 14, 14, 32)\n",
      "(?, 14, 14, 64)\n",
      "-- end inception --\n",
      "(?, 7, 7, 128)\n",
      "-- inside inception --\n",
      "(?, 7, 7, 64)\n",
      "(?, 7, 7, 32)\n",
      "(?, 7, 7, 64)\n",
      "(?, 7, 7, 32)\n",
      "(?, 7, 7, 64)\n",
      "(?, 7, 7, 128)\n",
      "-- end inception --\n",
      "-- inside inception --\n",
      "(?, 7, 7, 128)\n",
      "(?, 7, 7, 64)\n",
      "(?, 7, 7, 128)\n",
      "(?, 7, 7, 64)\n",
      "(?, 7, 7, 128)\n",
      "(?, 7, 7, 256)\n",
      "-- end inception --\n",
      "(?, 1, 1, 512)\n",
      "(?, 512)\n",
      "(?, 120)\n",
      "(?, 84)\n",
      "(?, 43)\n"
     ]
    }
   ],
   "source": [
    "rate = 0.001\n",
    "\n",
    "logits = inception(x, keep_prob, phase_train)\n",
    "cross_entropy = tf.nn.softmax_cross_entropy_with_logits(logits=logits, labels=one_hot_y)\n",
    "loss_operation = tf.reduce_mean(cross_entropy)\n",
    "optimizer = tf.train.AdamOptimizer(learning_rate = rate)\n",
    "training_operation = optimizer.minimize(loss_operation)"
   ]
  },
  {
   "cell_type": "code",
   "execution_count": 19,
   "metadata": {
    "collapsed": true,
    "nbpresent": {
     "id": "7c04f8bd-7d35-4ecf-97a1-e228a3f222b6"
    }
   },
   "outputs": [],
   "source": [
    "correct_prediction = tf.equal(tf.argmax(logits, 1), tf.argmax(one_hot_y, 1))\n",
    "accuracy_operation = tf.reduce_mean(tf.cast(correct_prediction, tf.float32))\n",
    "saver = tf.train.Saver()\n",
    "\n",
    "def evaluate(X_data, y_data):\n",
    "    num_examples = len(X_data)\n",
    "    total_accuracy = 0\n",
    "    sess = tf.get_default_session()\n",
    "    for offset in range(0, num_examples, BATCH_SIZE):\n",
    "        batch_x, batch_y = X_data[offset:offset+BATCH_SIZE], y_data[offset:offset+BATCH_SIZE]\n",
    "        accuracy = sess.run(accuracy_operation, feed_dict={x: batch_x, y: batch_y, phase_train: False, keep_prob: 1.0})\n",
    "        total_accuracy += (accuracy * len(batch_x))\n",
    "    return total_accuracy / num_examples"
   ]
  },
  {
   "cell_type": "code",
   "execution_count": 20,
   "metadata": {
    "collapsed": false,
    "nbpresent": {
     "id": "683a1e4b-59e0-48fb-a285-3df0dc99bfbe"
    }
   },
   "outputs": [
    {
     "name": "stdout",
     "output_type": "stream",
     "text": [
      "Training...\n",
      "\n",
      "EPOCH 1 ...\n",
      "Validation Accuracy = 0.608\n",
      "delta = 0.608\n",
      "\n",
      "EPOCH 2 ...\n",
      "Validation Accuracy = 0.844\n",
      "delta = 0.237\n",
      "\n",
      "EPOCH 3 ...\n",
      "Validation Accuracy = 0.880\n",
      "delta = 0.035\n",
      "\n",
      "EPOCH 4 ...\n",
      "Validation Accuracy = 0.901\n",
      "delta = 0.022\n",
      "\n",
      "EPOCH 5 ...\n",
      "Validation Accuracy = 0.910\n",
      "delta = 0.009\n",
      "\n",
      "EPOCH 6 ...\n",
      "Validation Accuracy = 0.930\n",
      "delta = 0.020\n",
      "\n",
      "EPOCH 7 ...\n",
      "Validation Accuracy = 0.920\n",
      "delta = -0.010\n",
      "\n",
      "EPOCH 8 ...\n",
      "Validation Accuracy = 0.923\n",
      "delta = 0.004\n",
      "\n",
      "EPOCH 9 ...\n",
      "Validation Accuracy = 0.931\n",
      "delta = 0.008\n",
      "\n",
      "EPOCH 10 ...\n",
      "Validation Accuracy = 0.949\n",
      "delta = 0.018\n",
      "\n",
      "EPOCH 11 ...\n",
      "Validation Accuracy = 0.927\n",
      "delta = -0.022\n",
      "\n",
      "EPOCH 12 ...\n",
      "Validation Accuracy = 0.942\n",
      "delta = 0.015\n",
      "\n",
      "EPOCH 13 ...\n",
      "Validation Accuracy = 0.944\n",
      "delta = 0.001\n",
      "\n",
      "EPOCH 14 ...\n",
      "Validation Accuracy = 0.945\n",
      "delta = 0.001\n",
      "\n",
      "EPOCH 15 ...\n",
      "Validation Accuracy = 0.962\n",
      "delta = 0.018\n",
      "\n",
      "Model saved\n"
     ]
    }
   ],
   "source": [
    "with tf.Session() as sess:\n",
    "    sess.run(tf.global_variables_initializer())\n",
    "    num_examples = len(X_train)\n",
    "    \n",
    "    print(\"Training...\")\n",
    "    print()\n",
    "    last_validation_accuracy = 0\n",
    "    for i in range(EPOCHS):\n",
    "        X_train, y_train = shuffle(X_train, y_train)\n",
    "        for offset in range(0, num_examples, BATCH_SIZE):\n",
    "            end = offset + BATCH_SIZE\n",
    "            batch_x, batch_y = X_train[offset:end], y_train[offset:end]\n",
    "            sess.run(training_operation, feed_dict={x: batch_x, y: batch_y, phase_train: True, keep_prob: 0.6})\n",
    "            \n",
    "        validation_accuracy = evaluate(X_valid, y_valid)\n",
    "        delta = validation_accuracy - last_validation_accuracy\n",
    "        last_validation_accuracy = validation_accuracy\n",
    "        print(\"EPOCH {} ...\".format(i+1))\n",
    "        print(\"Validation Accuracy = {:.3f}\".format(validation_accuracy))\n",
    "        print(\"delta = {:.3f}\".format(delta))\n",
    "        print()\n",
    "        \n",
    "    saver.save(sess, './lenet')\n",
    "    print(\"Model saved\")"
   ]
  },
  {
   "cell_type": "markdown",
   "metadata": {
    "nbpresent": {
     "id": "307bf4b9-683e-4a14-bcf2-99c49eb1b30b"
    }
   },
   "source": [
    "---\n",
    "\n",
    "## Step 3: Test a Model on New Images\n",
    "\n",
    "To give yourself more insight into how your model is working, download at least five pictures of German traffic signs from the web and use your model to predict the traffic sign type.\n",
    "\n",
    "You may find `signnames.csv` useful as it contains mappings from the class id (integer) to the actual sign name."
   ]
  },
  {
   "cell_type": "markdown",
   "metadata": {
    "nbpresent": {
     "id": "3a71d79a-1c4a-493c-b42e-d05bdc889635"
    }
   },
   "source": [
    "### Load and Output the Images"
   ]
  },
  {
   "cell_type": "code",
   "execution_count": null,
   "metadata": {
    "collapsed": true,
    "nbpresent": {
     "id": "307dc636-997b-4fa5-9aaf-235dbf1007bf"
    }
   },
   "outputs": [],
   "source": [
    "### Load the images and plot them here.\n",
    "### Feel free to use as many code cells as needed."
   ]
  },
  {
   "cell_type": "markdown",
   "metadata": {
    "nbpresent": {
     "id": "4d1829aa-c10c-40a9-8262-cfcf582b29de"
    }
   },
   "source": [
    "### Predict the Sign Type for Each Image"
   ]
  },
  {
   "cell_type": "code",
   "execution_count": 3,
   "metadata": {
    "collapsed": true,
    "nbpresent": {
     "id": "b736d8eb-8aff-4815-b7ef-6f9278fa6848"
    }
   },
   "outputs": [],
   "source": [
    "### Run the predictions here and use the model to output the prediction for each image.\n",
    "### Make sure to pre-process the images with the same pre-processing pipeline used earlier.\n",
    "### Feel free to use as many code cells as needed."
   ]
  },
  {
   "cell_type": "markdown",
   "metadata": {
    "nbpresent": {
     "id": "7ede3802-72e3-4797-82b1-5e9e0912a7aa"
    }
   },
   "source": [
    "### Analyze Performance"
   ]
  },
  {
   "cell_type": "code",
   "execution_count": 4,
   "metadata": {
    "collapsed": true,
    "nbpresent": {
     "id": "ae782e63-0f08-4a8b-9477-d2578201650f"
    }
   },
   "outputs": [],
   "source": [
    "### Calculate the accuracy for these 5 new images. \n",
    "### For example, if the model predicted 1 out of 5 signs correctly, it's 20% accurate on these new images."
   ]
  },
  {
   "cell_type": "markdown",
   "metadata": {
    "nbpresent": {
     "id": "bd416a5d-61ab-4395-aae1-9a3059bd63d7"
    }
   },
   "source": [
    "### Output Top 5 Softmax Probabilities For Each Image Found on the Web"
   ]
  },
  {
   "cell_type": "markdown",
   "metadata": {
    "nbpresent": {
     "id": "37d16c91-74b0-4218-8276-fdda6962b7c8"
    }
   },
   "source": [
    "For each of the new images, print out the model's softmax probabilities to show the **certainty** of the model's predictions (limit the output to the top 5 probabilities for each image). [`tf.nn.top_k`](https://www.tensorflow.org/versions/r0.12/api_docs/python/nn.html#top_k) could prove helpful here. \n",
    "\n",
    "The example below demonstrates how tf.nn.top_k can be used to find the top k predictions for each image.\n",
    "\n",
    "`tf.nn.top_k` will return the values and indices (class ids) of the top k predictions. So if k=3, for each sign, it'll return the 3 largest probabilities (out of a possible 43) and the correspoding class ids.\n",
    "\n",
    "Take this numpy array as an example. The values in the array represent predictions. The array contains softmax probabilities for five candidate images with six possible classes. `tk.nn.top_k` is used to choose the three classes with the highest probability:\n",
    "\n",
    "```\n",
    "# (5, 6) array\n",
    "a = np.array([[ 0.24879643,  0.07032244,  0.12641572,  0.34763842,  0.07893497,\n",
    "         0.12789202],\n",
    "       [ 0.28086119,  0.27569815,  0.08594638,  0.0178669 ,  0.18063401,\n",
    "         0.15899337],\n",
    "       [ 0.26076848,  0.23664738,  0.08020603,  0.07001922,  0.1134371 ,\n",
    "         0.23892179],\n",
    "       [ 0.11943333,  0.29198961,  0.02605103,  0.26234032,  0.1351348 ,\n",
    "         0.16505091],\n",
    "       [ 0.09561176,  0.34396535,  0.0643941 ,  0.16240774,  0.24206137,\n",
    "         0.09155967]])\n",
    "```\n",
    "\n",
    "Running it through `sess.run(tf.nn.top_k(tf.constant(a), k=3))` produces:\n",
    "\n",
    "```\n",
    "TopKV2(values=array([[ 0.34763842,  0.24879643,  0.12789202],\n",
    "       [ 0.28086119,  0.27569815,  0.18063401],\n",
    "       [ 0.26076848,  0.23892179,  0.23664738],\n",
    "       [ 0.29198961,  0.26234032,  0.16505091],\n",
    "       [ 0.34396535,  0.24206137,  0.16240774]]), indices=array([[3, 0, 5],\n",
    "       [0, 1, 4],\n",
    "       [0, 5, 1],\n",
    "       [1, 3, 5],\n",
    "       [1, 4, 3]], dtype=int32))\n",
    "```\n",
    "\n",
    "Looking just at the first row we get `[ 0.34763842,  0.24879643,  0.12789202]`, you can confirm these are the 3 largest probabilities in `a`. You'll also notice `[3, 0, 5]` are the corresponding indices."
   ]
  },
  {
   "cell_type": "code",
   "execution_count": 6,
   "metadata": {
    "collapsed": true,
    "nbpresent": {
     "id": "0a0ab74e-74ac-42a3-96d3-184ff0749022"
    }
   },
   "outputs": [],
   "source": [
    "### Print out the top five softmax probabilities for the predictions on the German traffic sign images found on the web. \n",
    "### Feel free to use as many code cells as needed."
   ]
  },
  {
   "cell_type": "markdown",
   "metadata": {
    "nbpresent": {
     "id": "968250f2-4f89-4588-9ad5-8330f3ea27a1"
    }
   },
   "source": [
    "---\n",
    "\n",
    "## Step 4: Visualize the Neural Network's State with Test Images\n",
    "\n",
    " This Section is not required to complete but acts as an additional excersise for understaning the output of a neural network's weights. While neural networks can be a great learning device they are often referred to as a black box. We can understand what the weights of a neural network look like better by plotting their feature maps. After successfully training your neural network you can see what it's feature maps look like by plotting the output of the network's weight layers in response to a test stimuli image. From these plotted feature maps, it's possible to see what characteristics of an image the network finds interesting. For a sign, maybe the inner network feature maps react with high activation to the sign's boundary outline or to the contrast in the sign's painted symbol.\n",
    "\n",
    " Provided for you below is the function code that allows you to get the visualization output of any tensorflow weight layer you want. The inputs to the function should be a stimuli image, one used during training or a new one you provided, and then the tensorflow variable name that represents the layer's state during the training process, for instance if you wanted to see what the [LeNet lab's](https://classroom.udacity.com/nanodegrees/nd013/parts/fbf77062-5703-404e-b60c-95b78b2f3f9e/modules/6df7ae49-c61c-4bb2-a23e-6527e69209ec/lessons/601ae704-1035-4287-8b11-e2c2716217ad/concepts/d4aca031-508f-4e0b-b493-e7b706120f81) feature maps looked like for it's second convolutional layer you could enter conv2 as the tf_activation variable.\n",
    "\n",
    "For an example of what feature map outputs look like, check out NVIDIA's results in their paper [End-to-End Deep Learning for Self-Driving Cars](https://devblogs.nvidia.com/parallelforall/deep-learning-self-driving-cars/) in the section Visualization of internal CNN State. NVIDIA was able to show that their network's inner weights had high activations to road boundary lines by comparing feature maps from an image with a clear path to one without. Try experimenting with a similar test to show that your trained network's weights are looking for interesting features, whether it's looking at differences in feature maps from images with or without a sign, or even what feature maps look like in a trained network vs a completely untrained one on the same sign image.\n",
    "\n",
    "<figure>\n",
    " <img src=\"visualize_cnn.png\" width=\"380\" alt=\"Combined Image\" />\n",
    " <figcaption>\n",
    " <p></p> \n",
    " <p style=\"text-align: center;\"> Your output should look something like this (above)</p> \n",
    " </figcaption>\n",
    "</figure>\n",
    " <p></p> \n"
   ]
  },
  {
   "cell_type": "code",
   "execution_count": null,
   "metadata": {
    "collapsed": true,
    "nbpresent": {
     "id": "11bc76a6-4f7b-4449-a2f4-72e4f0490dc1"
    }
   },
   "outputs": [],
   "source": [
    "### Visualize your network's feature maps here.\n",
    "### Feel free to use as many code cells as needed.\n",
    "\n",
    "# image_input: the test image being fed into the network to produce the feature maps\n",
    "# tf_activation: should be a tf variable name used during your training procedure that represents the calculated state of a specific weight layer\n",
    "# activation_min/max: can be used to view the activation contrast in more detail, by default matplot sets min and max to the actual min and max values of the output\n",
    "# plt_num: used to plot out multiple different weight feature map sets on the same block, just extend the plt number for each new feature map entry\n",
    "\n",
    "def outputFeatureMap(image_input, tf_activation, activation_min=-1, activation_max=-1 ,plt_num=1):\n",
    "    # Here make sure to preprocess your image_input in a way your network expects\n",
    "    # with size, normalization, ect if needed\n",
    "    # image_input =\n",
    "    # Note: x should be the same name as your network's tensorflow data placeholder variable\n",
    "    # If you get an error tf_activation is not defined it maybe having trouble accessing the variable from inside a function\n",
    "    activation = tf_activation.eval(session=sess,feed_dict={x : image_input})\n",
    "    featuremaps = activation.shape[3]\n",
    "    plt.figure(plt_num, figsize=(15,15))\n",
    "    for featuremap in range(featuremaps):\n",
    "        plt.subplot(6,8, featuremap+1) # sets the number of feature maps to show on each row and column\n",
    "        plt.title('FeatureMap ' + str(featuremap)) # displays the feature map number\n",
    "        if activation_min != -1 & activation_max != -1:\n",
    "            plt.imshow(activation[0,:,:, featuremap], interpolation=\"nearest\", vmin =activation_min, vmax=activation_max, cmap=\"gray\")\n",
    "        elif activation_max != -1:\n",
    "            plt.imshow(activation[0,:,:, featuremap], interpolation=\"nearest\", vmax=activation_max, cmap=\"gray\")\n",
    "        elif activation_min !=-1:\n",
    "            plt.imshow(activation[0,:,:, featuremap], interpolation=\"nearest\", vmin=activation_min, cmap=\"gray\")\n",
    "        else:\n",
    "            plt.imshow(activation[0,:,:, featuremap], interpolation=\"nearest\", cmap=\"gray\")"
   ]
  },
  {
   "cell_type": "markdown",
   "metadata": {
    "nbpresent": {
     "id": "65c06858-280b-429c-94c9-84c12ca544a7"
    }
   },
   "source": [
    "### Question 9\n",
    "\n",
    "Discuss how you used the visual output of your trained network's feature maps to show that it had learned to look for interesting characteristics in traffic sign images\n"
   ]
  },
  {
   "cell_type": "markdown",
   "metadata": {
    "nbpresent": {
     "id": "a718af50-41c7-4036-ac9a-f529d34f0694"
    }
   },
   "source": [
    "**Answer:**"
   ]
  },
  {
   "cell_type": "markdown",
   "metadata": {
    "nbpresent": {
     "id": "2eec3d02-fe17-403d-b223-c0a4317094e6"
    }
   },
   "source": [
    "> **Note**: Once you have completed all of the code implementations and successfully answered each question above, you may finalize your work by exporting the iPython Notebook as an HTML document. You can do this by using the menu above and navigating to  \\n\",\n",
    "    \"**File -> Download as -> HTML (.html)**. Include the finished document along with this notebook as your submission."
   ]
  },
  {
   "cell_type": "markdown",
   "metadata": {
    "nbpresent": {
     "id": "6ae87eb6-9a7f-419d-89a2-eedf83657abd"
    }
   },
   "source": [
    "### Project Writeup\n",
    "\n",
    "Once you have completed the code implementation, document your results in a project writeup using this [template](https://github.com/udacity/CarND-Traffic-Sign-Classifier-Project/blob/master/writeup_template.md) as a guide. The writeup can be in a markdown or pdf file. "
   ]
  }
 ],
 "metadata": {
  "anaconda-cloud": {},
  "kernelspec": {
   "display_name": "Python 3",
   "language": "python",
   "name": "python3"
  },
  "language_info": {
   "codemirror_mode": {
    "name": "ipython",
    "version": 3
   },
   "file_extension": ".py",
   "mimetype": "text/x-python",
   "name": "python",
   "nbconvert_exporter": "python",
   "pygments_lexer": "ipython3",
   "version": "3.5.2"
  },
  "nbpresent": {
   "slides": {},
   "themes": {
    "default": "fcc8db3f-c495-4171-ba33-81c6cf05fa2f",
    "theme": {
     "11fe83aa-6987-4baa-adcd-8e8871de3795": {
      "backgrounds": {
       "backgroundColor": {
        "background-color": "backgroundColor",
        "id": "backgroundColor"
       }
      },
      "id": "11fe83aa-6987-4baa-adcd-8e8871de3795",
      "palette": {
       "backgroundColor": {
        "id": "backgroundColor",
        "rgb": [
         43,
         43,
         43
        ]
       },
       "headingColor": {
        "id": "headingColor",
        "rgb": [
         238,
         238,
         238
        ]
       },
       "linkColor": {
        "id": "linkColor",
        "rgb": [
         19,
         218,
         236
        ]
       },
       "mainColor": {
        "id": "mainColor",
        "rgb": [
         238,
         238,
         238
        ]
       }
      },
      "rules": {
       "a": {
        "color": "linkColor"
       },
       "h1": {
        "color": "headingColor",
        "font-family": "Oswald",
        "font-size": 7
       },
       "h2": {
        "color": "headingColor",
        "font-family": "Oswald",
        "font-size": 5
       },
       "h3": {
        "color": "headingColor",
        "font-family": "Oswald",
        "font-size": 3.75
       },
       "h4": {
        "color": "headingColor",
        "font-family": "Oswald",
        "font-size": 3
       },
       "h5": {
        "color": "headingColor",
        "font-family": "Oswald"
       },
       "h6": {
        "color": "headingColor",
        "font-family": "Oswald"
       },
       "h7": {
        "color": "headingColor",
        "font-family": "Oswald"
       },
       "li": {
        "color": "mainColor",
        "font-family": "Lato",
        "font-size": 5
       },
       "p": {
        "color": "mainColor",
        "font-family": "Lato",
        "font-size": 5
       }
      },
      "text-base": {
       "color": "mainColor",
       "font-family": "Lato",
       "font-size": 5
      }
     },
     "fcc8db3f-c495-4171-ba33-81c6cf05fa2f": {
      "id": "fcc8db3f-c495-4171-ba33-81c6cf05fa2f",
      "palette": {
       "19cc588f-0593-49c9-9f4b-e4d7cc113b1c": {
        "id": "19cc588f-0593-49c9-9f4b-e4d7cc113b1c",
        "rgb": [
         252,
         252,
         252
        ]
       },
       "31af15d2-7e15-44c5-ab5e-e04b16a89eff": {
        "id": "31af15d2-7e15-44c5-ab5e-e04b16a89eff",
        "rgb": [
         68,
         68,
         68
        ]
       },
       "50f92c45-a630-455b-aec3-788680ec7410": {
        "id": "50f92c45-a630-455b-aec3-788680ec7410",
        "rgb": [
         155,
         177,
         192
        ]
       },
       "c5cc3653-2ee1-402a-aba2-7caae1da4f6c": {
        "id": "c5cc3653-2ee1-402a-aba2-7caae1da4f6c",
        "rgb": [
         43,
         126,
         184
        ]
       },
       "efa7f048-9acb-414c-8b04-a26811511a21": {
        "id": "efa7f048-9acb-414c-8b04-a26811511a21",
        "rgb": [
         25.118061674008803,
         73.60176211453744,
         107.4819383259912
        ]
       }
      },
      "rules": {
       "blockquote": {
        "color": "50f92c45-a630-455b-aec3-788680ec7410"
       },
       "code": {
        "font-family": "Anonymous Pro"
       },
       "h1": {
        "color": "c5cc3653-2ee1-402a-aba2-7caae1da4f6c",
        "font-family": "Lato",
        "font-size": 8
       },
       "h2": {
        "color": "c5cc3653-2ee1-402a-aba2-7caae1da4f6c",
        "font-family": "Lato",
        "font-size": 6
       },
       "h3": {
        "color": "50f92c45-a630-455b-aec3-788680ec7410",
        "font-family": "Lato",
        "font-size": 5.5
       },
       "h4": {
        "color": "c5cc3653-2ee1-402a-aba2-7caae1da4f6c",
        "font-family": "Lato",
        "font-size": 5
       },
       "h5": {
        "font-family": "Lato"
       },
       "h6": {
        "font-family": "Lato"
       },
       "h7": {
        "font-family": "Lato"
       },
       "pre": {
        "font-family": "Anonymous Pro",
        "font-size": 4
       }
      },
      "text-base": {
       "font-family": "Merriweather",
       "font-size": 4
      }
     }
    }
   }
  },
  "widgets": {
   "state": {},
   "version": "1.1.2"
  }
 },
 "nbformat": 4,
 "nbformat_minor": 1
}
